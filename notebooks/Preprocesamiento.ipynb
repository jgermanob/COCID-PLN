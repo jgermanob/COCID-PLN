{
  "nbformat": 4,
  "nbformat_minor": 0,
  "metadata": {
    "colab": {
      "provenance": [],
      "authorship_tag": "ABX9TyNB6CUOTtYMyw7Y5SpEk2pX",
      "include_colab_link": true
    },
    "kernelspec": {
      "name": "python3",
      "display_name": "Python 3"
    },
    "language_info": {
      "name": "python"
    }
  },
  "cells": [
    {
      "cell_type": "markdown",
      "metadata": {
        "id": "view-in-github",
        "colab_type": "text"
      },
      "source": [
        "<a href=\"https://colab.research.google.com/github/jgermanob/COCID-PLN/blob/master/notebooks/Preprocesamiento.ipynb\" target=\"_parent\"><img src=\"https://colab.research.google.com/assets/colab-badge.svg\" alt=\"Open In Colab\"/></a>"
      ]
    },
    {
      "cell_type": "markdown",
      "source": [
        "# 4) Preprocesamiento de Texto\n",
        "\n"
      ],
      "metadata": {
        "id": "NQMHDHXNYYsL"
      }
    },
    {
      "cell_type": "code",
      "source": [
        "!python3 -m spacy download es_core_news_sm"
      ],
      "metadata": {
        "id": "_1NwjAj_x9mx"
      },
      "execution_count": null,
      "outputs": []
    },
    {
      "cell_type": "code",
      "source": [
        "from nltk.tokenize import RegexpTokenizer\n",
        "from nltk import FreqDist\n",
        "import nltk\n",
        "import spacy\n",
        "import re"
      ],
      "metadata": {
        "id": "2nVWhy2BwRjQ"
      },
      "execution_count": null,
      "outputs": []
    },
    {
      "cell_type": "markdown",
      "source": [
        "## 4.1) Carga de texto"
      ],
      "metadata": {
        "id": "_fal5Jputcvs"
      }
    },
    {
      "cell_type": "code",
      "source": [
        "!wget https://raw.githubusercontent.com/jgermanob/COCID-PLN/master/Corpora/elramoazul.txt"
      ],
      "metadata": {
        "id": "CVJqeV_svkrl"
      },
      "execution_count": null,
      "outputs": []
    },
    {
      "cell_type": "code",
      "execution_count": null,
      "metadata": {
        "id": "LhGiaMwbXfJQ"
      },
      "outputs": [],
      "source": [
        "TEXT_PATH = 'elramoazul.txt'"
      ]
    },
    {
      "cell_type": "code",
      "source": [
        "input_file = open(TEXT_PATH, encoding='utf8').read()"
      ],
      "metadata": {
        "id": "ZHlMRmqIv41p"
      },
      "execution_count": null,
      "outputs": []
    },
    {
      "cell_type": "code",
      "source": [
        "input_file"
      ],
      "metadata": {
        "colab": {
          "base_uri": "https://localhost:8080/",
          "height": 174
        },
        "id": "BG3vN6gdwC8g",
        "outputId": "44832515-28c4-4342-c218-45f8d8f475d9"
      },
      "execution_count": null,
      "outputs": [
        {
          "output_type": "execute_result",
          "data": {
            "text/plain": [
              "'El ramo azul, un cuento de Octavio Paz\\n\\nDesperté, cubierto de sudor. Del piso de ladrillos rojos, recién regados, subía un vapor caliente. Una mariposa de alas grisáceas revoloteaba encandilada alrededor del foco amarillento. Salté de la hamaca y descalzo atravesé el cuarto, cuidando no pisar algún alacrán salido de su escondrijo a tomar el fresco. Me acerqué al ventanillo y aspiré el aire del campo. Se oía la respiración de la noche, enorme, femenina. Regresé al centro de la habitación, vacié el agua de la jarra en la palangana de peltre y humedecí la toalla. Me froté el torso y las piernas con el trapo empapado, me sequé un poco y, tras de cerciorarme que ningún bicho estaba escondido entre los pliegues de mi ropa, me vestí y calcé. Bajé saltando la escalera pintada de verde. En la puerta del mesón tropecé con el dueño, sujeto tuerto y reticente. Sentado en una sillita de tule, fumaba con el ojo entrecerrado. Con voz ronca me preguntó:\\n-¿Dónde va señor?\\n\\n-A dar una vuelta. Hace mucho calor.\\n-Hum, todo está ya cerrado. Y no hay alumbrado aquí. Más le valiera quedarse.\\nAlcé los hombros, musité “ahora vuelvo” y me metí en lo oscuro. Al principio no veía nada. Caminé a tientas por la calle empedrada. Encendí un cigarrillo. De pronto salió la luna de una nube negra, iluminando un muro blanco, desmoronado a trechos. Me detuve, ciego ante tanta blancura. Sopló un poco de viento. Respiré el aire de los tamarindos. Vibraba la noche, llena de hojas e insectos. Los grillos vivaqueaban entre las hierbas altas. Alcé la cara: arriba también habían establecido campamento las estrellas. Pensé que el universo era un vasto sistema de señales, una conversación entre seres inmensos. Mis actos, el serrucho del grillo, el parpadeo de la estrella, no eran sino pausas y sílabas, frases dispersas de aquel diálogo. ¿Cuál sería esa palabra de la cual yo era una sílaba? ¿Quién dice esa palabra y a quién se la dice? Tiré el cigarrillo sobre la banqueta. Al caer, describió una curva luminosa, arrojando breves chispas, como un cometa minúsculo.\\nCaminé largo rato, despacio. Me sentía libre, seguro entre los labios que en ese momento me pronunciaban con tanta felicidad. La noche era un jardín de ojos. Al cruzar la calle, sentí que alguien se desprendía de una puerta. Me volví, pero no acerté a distinguir nada. Apreté el paso. Unos instantes percibí unos huaraches sobre las piedras calientes. No quise volverme, aunque sentía que la sombra se acercaba cada vez más. Intenté correr. No pude. Me detuve en seco, bruscamente. Antes de que pudiese defenderme, sentí la punta de un cuchillo en mi espalda y una voz dulce:\\n-No se mueva , señor, o se lo entierro.\\nSin volver la cara pregunté:\\n-¿Qué quieres?\\n-Sus ojos, señor –contestó la voz suave, casi apenada.\\n-¿Mis ojos? ¿Para qué te servirán mis ojos? Mira, aquí tengo un poco de dinero. No es mucho, pero es algo. Te daré todo lo que tengo, si me dejas. No vayas a matarme.\\n-No tenga miedo, señor. No lo mataré. Nada más voy a sacarle los ojos.\\n-Pero, ¿para qué quieres mis ojos?\\n-Es un capricho de mi novia. Quiere un ramito de ojos azules y por aquí hay pocos que los tengan.\\nMis ojos no te sirven. No son azules, sino amarillos.\\n-Ay, señor no quiera engañarme. Bien sé que los tiene azules.\\n-No se le sacan a un cristiano los ojos así. Te daré otra cosa.\\n-No se haga el remilgoso, me dijo con dureza. Dé la vuelta.\\nMe volví. Era pequeño y frágil. El sombrero de palma le cubría medio rostro. Sostenía con el brazo derecho un machete de campo, que brillaba con la luz de la luna.\\n-Alúmbrese la cara.\\nEncendí y me acerqué la llama al rostro. El resplandor me hizo entrecerrar los ojos. El apartó mis párpados con mano firme. No podía ver bien. Se alzó sobre las puntas de los pies y me contempló intensamente.\\nLa llama me quemaba los dedos. La arrojé. Permaneció un instante silencioso.\\n-¿Ya te convenciste? No los tengo azules.\\n-¡Ah, qué mañoso es usted! –respondió- A ver, encienda otra vez.\\nFroté otro fósforo y lo acerqué a mis ojos. Tirándome de la manga, me ordenó.\\n-Arrodíllese.\\nMi hinqué. Con una mano me cogió por los cabellos, echándome la cabeza hacia atrás. Se inclinó sobre mí, curioso y tenso, mientras el machete descendía lentamente hasta rozar mis párpados. Cerré los ojos.\\n-Ábralos bien –ordenó.\\nAbrí los ojos. La llamita me quemaba las pestañas. Me soltó de improviso.\\n-Pues no son azules, señor. Dispense.\\nY despareció.\\nMe acodé junto al muro, con la cabeza entre las manos. Luego me incorporé. A tropezones, cayendo y levantándome, corrí durante una hora por el pueblo desierto. Cuando llegué a la plaza, vi al dueño del mesón, sentado aún frente a la puerta.\\nEntré sin decir palabra.\\nAl día siguiente huí de aquel pueblo.\\n'"
            ],
            "application/vnd.google.colaboratory.intrinsic+json": {
              "type": "string"
            }
          },
          "metadata": {},
          "execution_count": 6
        }
      ]
    },
    {
      "cell_type": "markdown",
      "source": [
        "## 4.2) Tokenización\n",
        "\n",
        "Dada una secuencia de caracteres y un documento, la tokenización es la tarea de dividir el texto en unidades, llamadas _tokens_. Es posible que durante este proceso también se necesario desechar cierto tipo de caracteres, como los signos de puntuación.\n",
        "\n",
        "Estos tokens a menudo se denominan vagamente términos o palabras, pero a veces es importante hacer una distinción tipo/token. Un token es una instancia de una secuencia de caracteres en algún documento particular que se agrupan como una unidad semántica útil para el procesamiento. Un tipo es la clase de todos los tokens que contienen la misma secuencia de caracteres.\n"
      ],
      "metadata": {
        "id": "LuPI5txawF22"
      }
    },
    {
      "cell_type": "code",
      "source": [
        "# Convertir el texto a minusculas\n",
        "input_file = input_file.lower()\n",
        "# Definir una expresión regular para tokenizar el texto\n",
        "tokenizer = RegexpTokenizer(r'\\w+')\n",
        "tokens = tokenizer.tokenize(input_file)"
      ],
      "metadata": {
        "id": "RnmHQEeWwl0l"
      },
      "execution_count": null,
      "outputs": []
    },
    {
      "cell_type": "code",
      "source": [
        "tokens[:15]"
      ],
      "metadata": {
        "colab": {
          "base_uri": "https://localhost:8080/"
        },
        "id": "iLTvVzoRxPFh",
        "outputId": "6b55be2d-2e9d-4e40-beb2-4104b685d65c"
      },
      "execution_count": null,
      "outputs": [
        {
          "output_type": "execute_result",
          "data": {
            "text/plain": [
              "['el',\n",
              " 'ramo',\n",
              " 'azul',\n",
              " 'un',\n",
              " 'cuento',\n",
              " 'de',\n",
              " 'octavio',\n",
              " 'paz',\n",
              " 'desperté',\n",
              " 'cubierto',\n",
              " 'de',\n",
              " 'sudor',\n",
              " 'del',\n",
              " 'piso',\n",
              " 'de']"
            ]
          },
          "metadata": {},
          "execution_count": 18
        }
      ]
    },
    {
      "cell_type": "markdown",
      "source": [
        "## 4.3) Análisis morfológico\n",
        "\n",
        "Por razones gramaticales, los documentos van a utilizar diferentes formas de una palabra, como _organize_, _organizes_ y _organizing_. Además, hay familias de palabras relacionadas por derivación con significados similares, como democracia, democrático y democratización. En muchas situaciones, parece que sería útil buscar una de estas palabras para devolver documentos que contienen otra palabra en el conjunto.\n",
        "\n",
        "El análisis morfológico es un campo de la lingüística que estudia la estructura de las palabras. Identifica cómo se produce una palabra mediante el uso de morfemas. El morfema es el elemento más pequeño de una palabra que tiene función y significado gramatical. El morfema libre y el morfema unido son los dos tipos de morfemas. Un solo morfema libre puede convertirse en una palabra completa.\n"
      ],
      "metadata": {
        "id": "P5nMriaxxsPh"
      }
    },
    {
      "cell_type": "code",
      "source": [
        "nlp = spacy.load('es_core_news_sm')"
      ],
      "metadata": {
        "id": "LTIwzbQ-x08q"
      },
      "execution_count": null,
      "outputs": []
    },
    {
      "cell_type": "code",
      "source": [
        "input_file = re.sub('\\n+',' ', input_file)\n",
        "input_file = re.sub(r'[^\\w\\s]','', input_file)"
      ],
      "metadata": {
        "id": "xcs6y9mD2H1v"
      },
      "execution_count": null,
      "outputs": []
    },
    {
      "cell_type": "code",
      "source": [
        "input_file"
      ],
      "metadata": {
        "colab": {
          "base_uri": "https://localhost:8080/",
          "height": 174
        },
        "id": "DMuucmWA21Wy",
        "outputId": "835e6739-2e66-474b-b958-75861c88fdb8"
      },
      "execution_count": null,
      "outputs": [
        {
          "output_type": "execute_result",
          "data": {
            "text/plain": [
              "'el ramo azul un cuento de octavio paz desperté cubierto de sudor del piso de ladrillos rojos recién regados subía un vapor caliente una mariposa de alas grisáceas revoloteaba encandilada alrededor del foco amarillento salté de la hamaca y descalzo atravesé el cuarto cuidando no pisar algún alacrán salido de su escondrijo a tomar el fresco me acerqué al ventanillo y aspiré el aire del campo se oía la respiración de la noche enorme femenina regresé al centro de la habitación vacié el agua de la jarra en la palangana de peltre y humedecí la toalla me froté el torso y las piernas con el trapo empapado me sequé un poco y tras de cerciorarme que ningún bicho estaba escondido entre los pliegues de mi ropa me vestí y calcé bajé saltando la escalera pintada de verde en la puerta del mesón tropecé con el dueño sujeto tuerto y reticente sentado en una sillita de tule fumaba con el ojo entrecerrado con voz ronca me preguntó dónde va señor a dar una vuelta hace mucho calor hum todo está ya cerrado y no hay alumbrado aquí más le valiera quedarse alcé los hombros musité ahora vuelvo y me metí en lo oscuro al principio no veía nada caminé a tientas por la calle empedrada encendí un cigarrillo de pronto salió la luna de una nube negra iluminando un muro blanco desmoronado a trechos me detuve ciego ante tanta blancura sopló un poco de viento respiré el aire de los tamarindos vibraba la noche llena de hojas e insectos los grillos vivaqueaban entre las hierbas altas alcé la cara arriba también habían establecido campamento las estrellas pensé que el universo era un vasto sistema de señales una conversación entre seres inmensos mis actos el serrucho del grillo el parpadeo de la estrella no eran sino pausas y sílabas frases dispersas de aquel diálogo cuál sería esa palabra de la cual yo era una sílaba quién dice esa palabra y a quién se la dice tiré el cigarrillo sobre la banqueta al caer describió una curva luminosa arrojando breves chispas como un cometa minúsculo caminé largo rato despacio me sentía libre seguro entre los labios que en ese momento me pronunciaban con tanta felicidad la noche era un jardín de ojos al cruzar la calle sentí que alguien se desprendía de una puerta me volví pero no acerté a distinguir nada apreté el paso unos instantes percibí unos huaraches sobre las piedras calientes no quise volverme aunque sentía que la sombra se acercaba cada vez más intenté correr no pude me detuve en seco bruscamente antes de que pudiese defenderme sentí la punta de un cuchillo en mi espalda y una voz dulce no se mueva  señor o se lo entierro sin volver la cara pregunté qué quieres sus ojos señor contestó la voz suave casi apenada mis ojos para qué te servirán mis ojos mira aquí tengo un poco de dinero no es mucho pero es algo te daré todo lo que tengo si me dejas no vayas a matarme no tenga miedo señor no lo mataré nada más voy a sacarle los ojos pero para qué quieres mis ojos es un capricho de mi novia quiere un ramito de ojos azules y por aquí hay pocos que los tengan mis ojos no te sirven no son azules sino amarillos ay señor no quiera engañarme bien sé que los tiene azules no se le sacan a un cristiano los ojos así te daré otra cosa no se haga el remilgoso me dijo con dureza dé la vuelta me volví era pequeño y frágil el sombrero de palma le cubría medio rostro sostenía con el brazo derecho un machete de campo que brillaba con la luz de la luna alúmbrese la cara encendí y me acerqué la llama al rostro el resplandor me hizo entrecerrar los ojos el apartó mis párpados con mano firme no podía ver bien se alzó sobre las puntas de los pies y me contempló intensamente la llama me quemaba los dedos la arrojé permaneció un instante silencioso ya te convenciste no los tengo azules ah qué mañoso es usted respondió a ver encienda otra vez froté otro fósforo y lo acerqué a mis ojos tirándome de la manga me ordenó arrodíllese mi hinqué con una mano me cogió por los cabellos echándome la cabeza hacia atrás se inclinó sobre mí curioso y tenso mientras el machete descendía lentamente hasta rozar mis párpados cerré los ojos ábralos bien ordenó abrí los ojos la llamita me quemaba las pestañas me soltó de improviso pues no son azules señor dispense y despareció me acodé junto al muro con la cabeza entre las manos luego me incorporé a tropezones cayendo y levantándome corrí durante una hora por el pueblo desierto cuando llegué a la plaza vi al dueño del mesón sentado aún frente a la puerta entré sin decir palabra al día siguiente huí de aquel pueblo '"
            ],
            "application/vnd.google.colaboratory.intrinsic+json": {
              "type": "string"
            }
          },
          "metadata": {},
          "execution_count": 37
        }
      ]
    },
    {
      "cell_type": "code",
      "source": [
        "doc = nlp(input_file)"
      ],
      "metadata": {
        "id": "hGok-jctyiHB"
      },
      "execution_count": null,
      "outputs": []
    },
    {
      "cell_type": "code",
      "source": [
        "token = doc[8]"
      ],
      "metadata": {
        "id": "1gFKLw6lAzu7"
      },
      "execution_count": null,
      "outputs": []
    },
    {
      "cell_type": "code",
      "source": [
        "token"
      ],
      "metadata": {
        "colab": {
          "base_uri": "https://localhost:8080/"
        },
        "id": "xr_q3C-lCsm9",
        "outputId": "b61680a2-3e89-4717-f036-af6c314f85f6"
      },
      "execution_count": null,
      "outputs": [
        {
          "output_type": "execute_result",
          "data": {
            "text/plain": [
              "desperté"
            ]
          },
          "metadata": {},
          "execution_count": 48
        }
      ]
    },
    {
      "cell_type": "code",
      "source": [
        "print(token.morph) "
      ],
      "metadata": {
        "colab": {
          "base_uri": "https://localhost:8080/"
        },
        "id": "N_VKn53cCaWA",
        "outputId": "13cd2a57-d9a0-4ba5-e325-17fd61376c7a"
      },
      "execution_count": null,
      "outputs": [
        {
          "output_type": "stream",
          "name": "stdout",
          "text": [
            "Mood=Sub|Number=Sing|Person=3|Tense=Pres|VerbForm=Fin\n"
          ]
        }
      ]
    },
    {
      "cell_type": "markdown",
      "source": [
        "Al tratarse de un verbo, se presentan los siguientes campos:\n",
        "\n",
        "* Mood: Indica el tono de verbo en la oración. En este caso, el _mood_ subjuntivo se utiliza para expresar un deseo, una duda, una demanda o una situación hipotética.\n",
        "\n",
        "* Number: se refiere a si el sujeto es singular o plural. En este caso es singular.\n",
        "\n",
        "* Person: Esta se refiere a si la(s) persona(s) referida(s) está(n) hablando, se les habla o se habla acerca de ellos. En este caso se asigna la tercera persona.\n",
        "\n",
        "* Tense: Los tiempos verbales son cambios o adiciones a los verbos para mostrar cuándo tuvo lugar la acción: en el pasado, presente o futuro. En este caso el analizador asigna tiempo presente.\n",
        "\n",
        "* VerbForm: Es una característica flexiva de verbos y auxiliares, sin embargo, también se usa como característica léxica de algunos adjetivos y adverbios. En este caso, como se el _Mood_ es no vacío, se considera finito.\n",
        "\n",
        "Para conocer todos los campos de cada tipo de palabra, es posible consultar el formato [CoNLL-U](https://universaldependencies.org/format.html#morphological-annotation).\n"
      ],
      "metadata": {
        "id": "JFVzT5OORHR7"
      }
    },
    {
      "cell_type": "markdown",
      "source": [
        "### 4.3.1) Lematización\n",
        "\n",
        "La lematización generalmente se refiere a hacer un análisis mofológico de las palabras, normalmente con el objetivo de eliminar solo las terminaciones flexivas y devolver la forma base o de diccionario de una palabra, que se conoce como el lema."
      ],
      "metadata": {
        "id": "IWkNztIRAlSS"
      }
    },
    {
      "cell_type": "code",
      "source": [
        "lemmas = [token.lemma_ for token in doc]"
      ],
      "metadata": {
        "id": "N2ulv2qCzTp0"
      },
      "execution_count": null,
      "outputs": []
    },
    {
      "cell_type": "code",
      "source": [
        "lemmas[:15]"
      ],
      "metadata": {
        "id": "C4-XX45X59eZ"
      },
      "execution_count": null,
      "outputs": []
    },
    {
      "cell_type": "markdown",
      "source": [
        "## 4.4) Etiquetado PoS (_Part of Speech_)\n",
        " Esta es una técnica fundamental en PLN que consiste en etiquetar cada palabra de un documento en su correspondiente categoría gramatical o parte de la oración. Su importancia radica en la gran cantidad de información que brindan sobre una palabra y sus vecinos.\n",
        "\n",
        " Las partes de la oración se pueden dividir en dos amplias supercategorías: tipos de clase cerrada y tipos de clase abierta. Las clases cerradas son aquellas que tienen un número relativamente fijo de miembros. Por ejemplo, las preposiciones son una clase cerrada porque hay un conjunto fijo de ellas en inglés; rara vez se añaden nuevas preposiciones. Por el contrario, los sustantivos y verbos son clases abiertas porque continuamente se acuñan nuevos sustantivos y verbos o se toman prestados de otros idiomas.\n",
        "\n",
        " Las palabras de clase cerrada también son generalmente palabras funcionales como de, eso, el, que tienden a ser muy cortas, ocurren con frecuencia y, a menudo, tienen usos estructurantes en la gramática.\n",
        "\n",
        " Hay cuatro clases abiertas principales que ocurren en los idiomas del mundo; sustantivos, verbos, adjetivos y adverbios.\n",
        "\n",
        "\n",
        "La biblioteca SpaCy utiliza las [etiquetas POS universales](https://universaldependencies.org/u/pos/), son:\n",
        "\n",
        "* ADJ: adjetivo\n",
        "* ADP: adposición\n",
        "* ADV: adverbio\n",
        "* AUX: auxiliar\n",
        "* CCONJ: conjunción de coordinación\n",
        "* DET: determinante\n",
        "* INTJ: interjección\n",
        "* NOUN: sustantivo\n",
        "* NUM: numeral\n",
        "* PART: particula\n",
        "* PRON: pronombre\n",
        "* PROPN: nombre propio\n",
        "* PUNCT: punctuación\n",
        "* SCONJ: conjunción subordinada\n",
        "* SYM: simbolo\n",
        "* VERB: verbo\n",
        "* X: otro\n"
      ],
      "metadata": {
        "id": "uZEAJ9ef_Dyf"
      }
    },
    {
      "cell_type": "code",
      "source": [
        "tokens = doc[8:19]\n",
        "for token in tokens:\n",
        "  print('{}: {}'.format(token.text, token.pos_))"
      ],
      "metadata": {
        "colab": {
          "base_uri": "https://localhost:8080/"
        },
        "id": "yvI-ZBDJjRyU",
        "outputId": "613b4307-8107-4565-e22b-b6139ba6fa69"
      },
      "execution_count": 54,
      "outputs": [
        {
          "output_type": "stream",
          "name": "stdout",
          "text": [
            "desperté: VERB\n",
            "cubierto: ADJ\n",
            "de: ADP\n",
            "sudor: NOUN\n",
            "del: ADP\n",
            "piso: NOUN\n",
            "de: ADP\n",
            "ladrillos: NOUN\n",
            "rojos: ADJ\n",
            "recién: ADV\n",
            "regados: ADJ\n"
          ]
        }
      ]
    },
    {
      "cell_type": "markdown",
      "source": [
        "## Ejercicio.\n",
        "Realizar el análisis del texto \"El ramo azul\" y contestar las siguientes preguntas."
      ],
      "metadata": {
        "id": "kltdTWI0ogHW"
      }
    },
    {
      "cell_type": "markdown",
      "source": [
        "#### 1) ¿Cuántas palabras hay en el texto? (descartando símbolos de puntuación)."
      ],
      "metadata": {
        "id": "17U7uAB4p-Tr"
      }
    },
    {
      "cell_type": "code",
      "source": [],
      "metadata": {
        "id": "z4yxTiUcp9Zs"
      },
      "execution_count": 54,
      "outputs": []
    },
    {
      "cell_type": "markdown",
      "source": [
        "#### 2) ¿Cuántas palabras diferentes hay? (Lista de tipos)"
      ],
      "metadata": {
        "id": "XR8mN2HMqPfm"
      }
    },
    {
      "cell_type": "code",
      "source": [],
      "metadata": {
        "id": "p6ZMfiHrqPJp"
      },
      "execution_count": null,
      "outputs": []
    },
    {
      "cell_type": "markdown",
      "source": [
        "#### 3) Después de lematizar las palabras, ¿cuántas palabras diferentes hay?"
      ],
      "metadata": {
        "id": "4Lc2F35Fqcvp"
      }
    },
    {
      "cell_type": "code",
      "source": [],
      "metadata": {
        "id": "gjrk6ayKomId"
      },
      "execution_count": null,
      "outputs": []
    },
    {
      "cell_type": "markdown",
      "source": [
        "#### 4) ¿Cuál es la diversidad léxica del texto dado? (relación de palabras únicas con respecto al número total de palabras)\n",
        "\n",
        "$dl = \\frac{\\#\\ tipos}{\\#\\ palabras}$"
      ],
      "metadata": {
        "id": "0YPPFEn8q0iW"
      }
    },
    {
      "cell_type": "code",
      "source": [],
      "metadata": {
        "id": "mLTEEsPNq094"
      },
      "execution_count": null,
      "outputs": []
    },
    {
      "cell_type": "markdown",
      "source": [
        "#### 5) ¿Cuáles son las 20 palabras (únicas) más frecuentes en el texto? ¿Cuál es su frecuencia?.\n",
        "\n",
        "Es posible utilizar la clase [`FreqDist`](https://www.nltk.org/api/nltk.probability.FreqDist.html) de NLTK."
      ],
      "metadata": {
        "id": "FD_HeS8mq1Vm"
      }
    },
    {
      "cell_type": "code",
      "source": [],
      "metadata": {
        "id": "8EBASbTtq1oZ"
      },
      "execution_count": null,
      "outputs": []
    },
    {
      "cell_type": "markdown",
      "source": [
        "#### 6) ¿Cuál es el número promedio de palabras por oración?"
      ],
      "metadata": {
        "id": "AcAsWHQgspMh"
      }
    },
    {
      "cell_type": "code",
      "source": [],
      "metadata": {
        "id": "BctxZSoMspqK"
      },
      "execution_count": null,
      "outputs": []
    },
    {
      "cell_type": "markdown",
      "source": [
        "#### 7) ¿Cuál es la frecuencia de sustantivos, adjetivos y verbos en el texto?"
      ],
      "metadata": {
        "id": "IHvYZi0us3Yr"
      }
    },
    {
      "cell_type": "code",
      "source": [],
      "metadata": {
        "id": "i40rkmEEs33V"
      },
      "execution_count": null,
      "outputs": []
    }
  ]
}