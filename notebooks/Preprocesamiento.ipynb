{
  "nbformat": 4,
  "nbformat_minor": 0,
  "metadata": {
    "colab": {
      "provenance": [],
      "authorship_tag": "ABX9TyP1EvgOJzz52DrpwAMnPsfQ",
      "include_colab_link": true
    },
    "kernelspec": {
      "name": "python3",
      "display_name": "Python 3"
    },
    "language_info": {
      "name": "python"
    }
  },
  "cells": [
    {
      "cell_type": "markdown",
      "metadata": {
        "id": "view-in-github",
        "colab_type": "text"
      },
      "source": [
        "<a href=\"https://colab.research.google.com/github/jgermanob/COCID-PLN/blob/master/notebooks/Preprocesamiento.ipynb\" target=\"_parent\"><img src=\"https://colab.research.google.com/assets/colab-badge.svg\" alt=\"Open In Colab\"/></a>"
      ]
    },
    {
      "cell_type": "markdown",
      "source": [
        "# 4) Preprocesamiento de Texto\n",
        "\n"
      ],
      "metadata": {
        "id": "NQMHDHXNYYsL"
      }
    },
    {
      "cell_type": "code",
      "source": [
        "!python3 -m spacy download es_core_news_sm"
      ],
      "metadata": {
        "id": "_1NwjAj_x9mx"
      },
      "execution_count": null,
      "outputs": []
    },
    {
      "cell_type": "code",
      "source": [
        "from nltk.tokenize import RegexpTokenizer\n",
        "from nltk import FreqDist\n",
        "import spacy\n",
        "import re"
      ],
      "metadata": {
        "id": "2nVWhy2BwRjQ"
      },
      "execution_count": null,
      "outputs": []
    },
    {
      "cell_type": "markdown",
      "source": [
        "## 4.1) Carga de texto"
      ],
      "metadata": {
        "id": "_fal5Jputcvs"
      }
    },
    {
      "cell_type": "code",
      "source": [
        "!wget https://raw.githubusercontent.com/jgermanob/COCID-PLN/master/Corpora/elramoazul.txt"
      ],
      "metadata": {
        "id": "CVJqeV_svkrl"
      },
      "execution_count": null,
      "outputs": []
    },
    {
      "cell_type": "code",
      "execution_count": null,
      "metadata": {
        "id": "LhGiaMwbXfJQ"
      },
      "outputs": [],
      "source": [
        "TEXT_PATH = 'elramoazul.txt'"
      ]
    },
    {
      "cell_type": "code",
      "source": [
        "input_file = open(TEXT_PATH, encoding='utf8').read()"
      ],
      "metadata": {
        "id": "ZHlMRmqIv41p"
      },
      "execution_count": null,
      "outputs": []
    },
    {
      "cell_type": "code",
      "source": [
        "input_file"
      ],
      "metadata": {
        "id": "BG3vN6gdwC8g"
      },
      "execution_count": null,
      "outputs": []
    },
    {
      "cell_type": "markdown",
      "source": [
        "## 4.2) Tokenización\n",
        "\n",
        "Dada una secuencia de caracteres y un documento, la tokenización es la tarea de dividir el texto en unidades, llamadas _tokens_. Es posible que durante este proceso también se necesario desechar cierto tipo de caracteres, como los signos de puntuación.\n",
        "\n",
        "Estos tokens a menudo se denominan vagamente términos o palabras, pero a veces es importante hacer una distinción tipo/token. Un token es una instancia de una secuencia de caracteres en algún documento particular que se agrupan como una unidad semántica útil para el procesamiento. Un tipo es la clase de todos los tokens que contienen la misma secuencia de caracteres.\n"
      ],
      "metadata": {
        "id": "LuPI5txawF22"
      }
    },
    {
      "cell_type": "code",
      "source": [
        "# Convertir el texto a minusculas\n",
        "input_file = input_file.lower()\n",
        "# Definir una expresión regular para tokenizar el texto\n",
        "tokenizer = RegexpTokenizer(r'\\w+')\n",
        "tokens = tokenizer.tokenize(input_file)"
      ],
      "metadata": {
        "id": "RnmHQEeWwl0l"
      },
      "execution_count": null,
      "outputs": []
    },
    {
      "cell_type": "code",
      "source": [
        "tokens[:15]"
      ],
      "metadata": {
        "id": "iLTvVzoRxPFh"
      },
      "execution_count": null,
      "outputs": []
    },
    {
      "cell_type": "markdown",
      "source": [
        "## 4.3) Análisis morfológico\n",
        "\n",
        "Por razones gramaticales, los documentos van a utilizar diferentes formas de una palabra, como _organize_, _organizes_ y _organizing_. Además, hay familias de palabras relacionadas por derivación con significados similares, como democracia, democrático y democratización. En muchas situaciones, parece que sería útil buscar una de estas palabras para devolver documentos que contienen otra palabra en el conjunto.\n",
        "\n",
        "El análisis morfológico es un campo de la lingüística que estudia la estructura de las palabras. Identifica cómo se produce una palabra mediante el uso de morfemas. El morfema es el elemento más pequeño de una palabra que tiene función y significado gramatical. El morfema libre y el morfema unido son los dos tipos de morfemas. Un solo morfema libre puede convertirse en una palabra completa.\n"
      ],
      "metadata": {
        "id": "P5nMriaxxsPh"
      }
    },
    {
      "cell_type": "code",
      "source": [
        "nlp = spacy.load('es_core_news_sm')"
      ],
      "metadata": {
        "id": "LTIwzbQ-x08q"
      },
      "execution_count": null,
      "outputs": []
    },
    {
      "cell_type": "code",
      "source": [
        "input_file = re.sub('\\n+',' ', input_file)\n",
        "input_file = re.sub(r'[^\\w\\s]','', input_file)"
      ],
      "metadata": {
        "id": "xcs6y9mD2H1v"
      },
      "execution_count": null,
      "outputs": []
    },
    {
      "cell_type": "code",
      "source": [
        "input_file"
      ],
      "metadata": {
        "id": "DMuucmWA21Wy"
      },
      "execution_count": null,
      "outputs": []
    },
    {
      "cell_type": "code",
      "source": [
        "doc = nlp(input_file)"
      ],
      "metadata": {
        "id": "hGok-jctyiHB"
      },
      "execution_count": null,
      "outputs": []
    },
    {
      "cell_type": "code",
      "source": [
        "token = doc[8]"
      ],
      "metadata": {
        "id": "1gFKLw6lAzu7"
      },
      "execution_count": null,
      "outputs": []
    },
    {
      "cell_type": "code",
      "source": [
        "token"
      ],
      "metadata": {
        "id": "xr_q3C-lCsm9"
      },
      "execution_count": null,
      "outputs": []
    },
    {
      "cell_type": "code",
      "source": [
        "print(token.morph) "
      ],
      "metadata": {
        "id": "N_VKn53cCaWA"
      },
      "execution_count": null,
      "outputs": []
    },
    {
      "cell_type": "markdown",
      "source": [
        "Al tratarse de un verbo, se presentan los siguientes campos:\n",
        "\n",
        "* Mood: Indica el tono de verbo en la oración. En este caso, el _mood_ subjuntivo se utiliza para expresar un deseo, una duda, una demanda o una situación hipotética.\n",
        "\n",
        "* Number: se refiere a si el sujeto es singular o plural. En este caso es singular.\n",
        "\n",
        "* Person: Esta se refiere a si la(s) persona(s) referida(s) está(n) hablando, se les habla o se habla acerca de ellos. En este caso se asigna la tercera persona.\n",
        "\n",
        "* Tense: Los tiempos verbales son cambios o adiciones a los verbos para mostrar cuándo tuvo lugar la acción: en el pasado, presente o futuro. En este caso el analizador asigna tiempo presente.\n",
        "\n",
        "* VerbForm: Es una característica flexiva de verbos y auxiliares, sin embargo, también se usa como característica léxica de algunos adjetivos y adverbios. En este caso, como se el _Mood_ es no vacío, se considera finito.\n",
        "\n",
        "Para conocer todos los campos de cada tipo de palabra, es posible consultar el formato [CoNLL-U](https://universaldependencies.org/format.html#morphological-annotation).\n"
      ],
      "metadata": {
        "id": "JFVzT5OORHR7"
      }
    },
    {
      "cell_type": "markdown",
      "source": [
        "### 4.3.1) Lematización\n",
        "\n",
        "La lematización generalmente se refiere a hacer un análisis mofológico de las palabras, normalmente con el objetivo de eliminar solo las terminaciones flexivas y devolver la forma base o de diccionario de una palabra, que se conoce como el lema."
      ],
      "metadata": {
        "id": "IWkNztIRAlSS"
      }
    },
    {
      "cell_type": "code",
      "source": [
        "lemmas = [token.lemma_ for token in doc]"
      ],
      "metadata": {
        "id": "N2ulv2qCzTp0"
      },
      "execution_count": null,
      "outputs": []
    },
    {
      "cell_type": "code",
      "source": [
        "lemmas[:15]"
      ],
      "metadata": {
        "id": "C4-XX45X59eZ"
      },
      "execution_count": null,
      "outputs": []
    },
    {
      "cell_type": "markdown",
      "source": [
        "## 4.4) Etiquetado PoS (_Part of Speech_)\n",
        " Esta es una técnica fundamental en PLN que consiste en etiquetar cada palabra de un documento en su correspondiente categoría gramatical o parte de la oración. Su importancia radica en la gran cantidad de información que brindan sobre una palabra y sus vecinos.\n",
        "\n",
        " Las partes de la oración se pueden dividir en dos amplias supercategorías: tipos de clase cerrada y tipos de clase abierta. Las clases cerradas son aquellas que tienen un número relativamente fijo de miembros. Por ejemplo, las preposiciones son una clase cerrada porque hay un conjunto fijo de ellas en inglés; rara vez se añaden nuevas preposiciones. Por el contrario, los sustantivos y verbos son clases abiertas porque continuamente se acuñan nuevos sustantivos y verbos o se toman prestados de otros idiomas.\n",
        "\n",
        " Las palabras de clase cerrada también son generalmente palabras funcionales como de, eso, el, que tienden a ser muy cortas, ocurren con frecuencia y, a menudo, tienen usos estructurantes en la gramática.\n",
        "\n",
        " Hay cuatro clases abiertas principales que ocurren en los idiomas del mundo; sustantivos, verbos, adjetivos y adverbios.\n",
        "\n",
        "\n",
        "La biblioteca SpaCy utiliza las [etiquetas POS universales](https://universaldependencies.org/u/pos/), son:\n",
        "\n",
        "* ADJ: adjetivo\n",
        "* ADP: adposición\n",
        "* ADV: adverbio\n",
        "* AUX: auxiliar\n",
        "* CCONJ: conjunción de coordinación\n",
        "* DET: determinante\n",
        "* INTJ: interjección\n",
        "* NOUN: sustantivo\n",
        "* NUM: numeral\n",
        "* PART: particula\n",
        "* PRON: pronombre\n",
        "* PROPN: nombre propio\n",
        "* PUNCT: punctuación\n",
        "* SCONJ: conjunción subordinada\n",
        "* SYM: simbolo\n",
        "* VERB: verbo\n",
        "* X: otro\n"
      ],
      "metadata": {
        "id": "uZEAJ9ef_Dyf"
      }
    },
    {
      "cell_type": "code",
      "source": [
        "tokens = doc[8:19]\n",
        "for token in tokens:\n",
        "  print('{}: {}'.format(token.text, token.pos_))"
      ],
      "metadata": {
        "id": "yvI-ZBDJjRyU"
      },
      "execution_count": null,
      "outputs": []
    },
    {
      "cell_type": "markdown",
      "source": [
        "## Ejercicio.\n",
        "Realizar el análisis del texto \"El ramo azul\" y contestar las siguientes preguntas."
      ],
      "metadata": {
        "id": "kltdTWI0ogHW"
      }
    },
    {
      "cell_type": "markdown",
      "source": [
        "#### 1) ¿Cuántas palabras hay en el texto? (descartando símbolos de puntuación)."
      ],
      "metadata": {
        "id": "17U7uAB4p-Tr"
      }
    },
    {
      "cell_type": "code",
      "source": [],
      "metadata": {
        "id": "z4yxTiUcp9Zs"
      },
      "execution_count": 54,
      "outputs": []
    },
    {
      "cell_type": "markdown",
      "source": [
        "#### 2) ¿Cuántas palabras diferentes hay? (Lista de tipos)"
      ],
      "metadata": {
        "id": "XR8mN2HMqPfm"
      }
    },
    {
      "cell_type": "code",
      "source": [],
      "metadata": {
        "id": "p6ZMfiHrqPJp"
      },
      "execution_count": null,
      "outputs": []
    },
    {
      "cell_type": "markdown",
      "source": [
        "#### 3) Después de lematizar las palabras, ¿cuántas palabras diferentes hay?"
      ],
      "metadata": {
        "id": "4Lc2F35Fqcvp"
      }
    },
    {
      "cell_type": "code",
      "source": [],
      "metadata": {
        "id": "gjrk6ayKomId"
      },
      "execution_count": null,
      "outputs": []
    },
    {
      "cell_type": "markdown",
      "source": [
        "#### 4) ¿Cuál es la diversidad léxica del texto dado? (relación de palabras únicas con respecto al número total de palabras)\n",
        "\n",
        "$dl = \\frac{\\#\\ tipos}{\\#\\ palabras}$"
      ],
      "metadata": {
        "id": "0YPPFEn8q0iW"
      }
    },
    {
      "cell_type": "code",
      "source": [],
      "metadata": {
        "id": "mLTEEsPNq094"
      },
      "execution_count": null,
      "outputs": []
    },
    {
      "cell_type": "markdown",
      "source": [
        "#### 5) ¿Cuáles son las 20 palabras (únicas) más frecuentes en el texto? ¿Cuál es su frecuencia?.\n",
        "\n",
        "Es posible utilizar la clase [`FreqDist`](https://www.nltk.org/api/nltk.probability.FreqDist.html) de NLTK."
      ],
      "metadata": {
        "id": "FD_HeS8mq1Vm"
      }
    },
    {
      "cell_type": "code",
      "source": [],
      "metadata": {
        "id": "8EBASbTtq1oZ"
      },
      "execution_count": null,
      "outputs": []
    },
    {
      "cell_type": "markdown",
      "source": [
        "#### 6) ¿Cuál es el número promedio de palabras por oración?"
      ],
      "metadata": {
        "id": "AcAsWHQgspMh"
      }
    },
    {
      "cell_type": "code",
      "source": [],
      "metadata": {
        "id": "BctxZSoMspqK"
      },
      "execution_count": null,
      "outputs": []
    },
    {
      "cell_type": "markdown",
      "source": [
        "#### 7) ¿Cuál es la frecuencia de sustantivos, adjetivos y verbos en el texto?"
      ],
      "metadata": {
        "id": "IHvYZi0us3Yr"
      }
    },
    {
      "cell_type": "code",
      "source": [],
      "metadata": {
        "id": "i40rkmEEs33V"
      },
      "execution_count": null,
      "outputs": []
    }
  ]
}