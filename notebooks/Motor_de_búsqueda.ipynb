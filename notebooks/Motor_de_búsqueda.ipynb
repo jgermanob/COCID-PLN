{
  "nbformat": 4,
  "nbformat_minor": 0,
  "metadata": {
    "colab": {
      "provenance": [],
      "authorship_tag": "ABX9TyOIBZq+eTVNfQakd2xqj+ep",
      "include_colab_link": true
    },
    "kernelspec": {
      "name": "python3",
      "display_name": "Python 3"
    },
    "language_info": {
      "name": "python"
    }
  },
  "cells": [
    {
      "cell_type": "markdown",
      "metadata": {
        "id": "view-in-github",
        "colab_type": "text"
      },
      "source": [
        "<a href=\"https://colab.research.google.com/github/jgermanob/COCID-PLN/blob/master/notebooks/Motor_de_b%C3%BAsqueda.ipynb\" target=\"_parent\"><img src=\"https://colab.research.google.com/assets/colab-badge.svg\" alt=\"Open In Colab\"/></a>"
      ]
    },
    {
      "cell_type": "markdown",
      "source": [
        "# 6) Motor de búsqueda"
      ],
      "metadata": {
        "id": "KI95m4x4yHfl"
      }
    },
    {
      "cell_type": "code",
      "execution_count": null,
      "metadata": {
        "id": "rNoT5H9htJBy"
      },
      "outputs": [],
      "source": [
        "%%capture\n",
        "!pip3 install datasets sentence-transformers\n",
        "!pip3 install huggingface_hub"
      ]
    },
    {
      "cell_type": "code",
      "source": [
        "from huggingface_hub import hf_hub_download\n",
        "import pandas as pd\n",
        "import numpy as np\n",
        "from sentence_transformers import SentenceTransformer, util\n",
        "import torch"
      ],
      "metadata": {
        "id": "miVOrER1yyc2"
      },
      "execution_count": null,
      "outputs": []
    },
    {
      "cell_type": "markdown",
      "source": [
        "#### 6.1) Descarga del conjunto de datos"
      ],
      "metadata": {
        "id": "IyZ06yqB0RDE"
      }
    },
    {
      "cell_type": "code",
      "source": [
        "df = pd.read_csv(hf_hub_download(\"fabiochiu/medium-articles\", repo_type=\"dataset\", filename=\"medium_articles.csv\"))\n",
        "df = df[:1000].reset_index(drop=True)\n",
        "df = df[['title', 'text', 'url']]\n",
        "df.head()"
      ],
      "metadata": {
        "id": "rxcf5z-U0XRM"
      },
      "execution_count": null,
      "outputs": []
    },
    {
      "cell_type": "markdown",
      "source": [
        "#### 6.2) Descargar modelo pre-entrenado"
      ],
      "metadata": {
        "id": "7OxjCWqG2SHo"
      }
    },
    {
      "cell_type": "code",
      "source": [
        "model = SentenceTransformer('all-MiniLM-L6-v2')"
      ],
      "metadata": {
        "id": "1RGI_ZDv0Xjp"
      },
      "execution_count": null,
      "outputs": []
    },
    {
      "cell_type": "markdown",
      "source": [
        "#### 6.3) Vectorización de documentos"
      ],
      "metadata": {
        "id": "fdY5cDWl6Jnm"
      }
    },
    {
      "cell_type": "code",
      "source": [
        "corpus = df[\"text\"].values\n",
        "corpus_embeddings = model.encode(corpus, convert_to_tensor=True)\n",
        "print(corpus_embeddings.shape)"
      ],
      "metadata": {
        "colab": {
          "base_uri": "https://localhost:8080/"
        },
        "id": "VyxwI9BG0Xn7",
        "outputId": "d9979533-d1c0-4625-f9cc-f104ecfa321e"
      },
      "execution_count": null,
      "outputs": [
        {
          "output_type": "stream",
          "name": "stdout",
          "text": [
            "torch.Size([1000, 384])\n"
          ]
        }
      ]
    },
    {
      "cell_type": "markdown",
      "source": [
        "#### 6.4) Realización de consultas"
      ],
      "metadata": {
        "id": "w352YM_y3PMl"
      }
    },
    {
      "cell_type": "code",
      "source": [
        "def relevant_documents(query_embedding, corpus_embeddings, df_articles, top_k=10):\n",
        "  cos_scores = util.cos_sim(query_embedding, corpus_embeddings)[0]\n",
        "  top_results = torch.topk(cos_scores, k=top_k)\n",
        "  position = 1\n",
        "  for score, idx in zip(top_results[0], top_results[1]):\n",
        "      row = df_articles.iloc[idx.item()]\n",
        "      title = row[\"title\"]\n",
        "      print(f\"{position} [score = {score}]: {title}\")\n",
        "      position += 1"
      ],
      "metadata": {
        "id": "8Cy5i0Bq0Xzs"
      },
      "execution_count": null,
      "outputs": []
    },
    {
      "cell_type": "markdown",
      "source": [
        "Consulta utilizando únicamente palabras de contenido"
      ],
      "metadata": {
        "id": "HwCGy-dnD9EJ"
      }
    },
    {
      "cell_type": "code",
      "source": [
        "query = \"data science nlp\"\n",
        "query_embedding = model.encode(query, convert_to_tensor=True)"
      ],
      "metadata": {
        "id": "NjDtUSUQDgc_"
      },
      "execution_count": null,
      "outputs": []
    },
    {
      "cell_type": "code",
      "source": [
        "relevant_documents(query_embedding, corpus_embeddings, df)"
      ],
      "metadata": {
        "id": "dlE93zO2DgrA"
      },
      "execution_count": null,
      "outputs": []
    },
    {
      "cell_type": "markdown",
      "source": [
        "Consulta utilizando palabras funcionales"
      ],
      "metadata": {
        "id": "0GA2IDAcEwrF"
      }
    },
    {
      "cell_type": "code",
      "source": [
        "query = \"how to learn NLP\""
      ],
      "metadata": {
        "id": "6xuiGyXkE1nq"
      },
      "execution_count": null,
      "outputs": []
    },
    {
      "cell_type": "code",
      "source": [
        "query_embedding = model.encode(query, convert_to_tensor=True)"
      ],
      "metadata": {
        "id": "SATjYUB1E1yz"
      },
      "execution_count": null,
      "outputs": []
    },
    {
      "cell_type": "code",
      "source": [
        "relevant_documents(query_embedding, corpus_embeddings, df)"
      ],
      "metadata": {
        "id": "g18Q8MrCE_09"
      },
      "execution_count": null,
      "outputs": []
    }
  ]
}