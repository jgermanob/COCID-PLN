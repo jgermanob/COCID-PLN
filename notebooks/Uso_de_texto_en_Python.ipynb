{
  "nbformat": 4,
  "nbformat_minor": 0,
  "metadata": {
    "colab": {
      "provenance": [],
      "authorship_tag": "ABX9TyNxd+LkesRozf2hckV8ztKC",
      "include_colab_link": true
    },
    "kernelspec": {
      "name": "python3",
      "display_name": "Python 3"
    },
    "language_info": {
      "name": "python"
    }
  },
  "cells": [
    {
      "cell_type": "markdown",
      "metadata": {
        "id": "view-in-github",
        "colab_type": "text"
      },
      "source": [
        "<a href=\"https://colab.research.google.com/github/jgermanob/COCID-PLN/blob/master/notebooks/Uso_de_texto_en_Python.ipynb\" target=\"_parent\"><img src=\"https://colab.research.google.com/assets/colab-badge.svg\" alt=\"Open In Colab\"/></a>"
      ]
    },
    {
      "cell_type": "markdown",
      "source": [
        "# 2) Uso de texto en Python\n",
        "\n",
        "Python es un lenguaje de programación simple pero poderoso con una excelente funcionalidad para procesar datos lingüísticos. Además, utiliza el paradigma orientado a objetos, por lo que cada variable es una entidad que tiene ciertos atributos y métodos definidos.\n"
      ],
      "metadata": {
        "id": "SZGjz9ja9IA4"
      }
    },
    {
      "cell_type": "markdown",
      "source": [
        "## 2.1) Cadenas en Python\n",
        "Las cadenas en python están entre comillas simples o comillas dobles. Estas se pueden mostrar en pantalla con el método _print( )_"
      ],
      "metadata": {
        "id": "exAwFR-GBFBP"
      }
    },
    {
      "cell_type": "code",
      "execution_count": null,
      "metadata": {
        "id": "bOkBuorh8rmM"
      },
      "outputs": [],
      "source": [
        "text1 = \"Por mi raza hablará el espíritu\""
      ]
    },
    {
      "cell_type": "code",
      "source": [
        "print(text1)"
      ],
      "metadata": {
        "colab": {
          "base_uri": "https://localhost:8080/"
        },
        "id": "J5zAXI-7B08I",
        "outputId": "0b9d4416-1696-47dc-96af-2f765e132895"
      },
      "execution_count": null,
      "outputs": [
        {
          "output_type": "stream",
          "name": "stdout",
          "text": [
            "Por mi raza hablará el espíritu\n"
          ]
        }
      ]
    },
    {
      "cell_type": "markdown",
      "source": [
        "Se pueden asignar multiples cadenas a una variable utlizando tres comillas simples o tres comillas dobles."
      ],
      "metadata": {
        "id": "XcfLMpNCCdyt"
      }
    },
    {
      "cell_type": "code",
      "source": [
        "text2 = \"\"\"Oh Universidad,\n",
        "Escucha con qué ardor,\n",
        "Entonan hoy tus hijos,\n",
        "Este himno en tu honor\n",
        "\"\"\""
      ],
      "metadata": {
        "id": "0tsj7tQhB1Sq"
      },
      "execution_count": null,
      "outputs": []
    },
    {
      "cell_type": "code",
      "source": [
        "text3 = '''Al darte la victoria,\n",
        "Honramos tus laureles,\n",
        "Conservando tu historia,\n",
        "Que es toda tradición\n",
        "'''"
      ],
      "metadata": {
        "id": "yR4UD0NwItGl"
      },
      "execution_count": null,
      "outputs": []
    },
    {
      "cell_type": "markdown",
      "source": [
        "Las cadenas en Python son arreglos de bytes que representan caracteres _unicode_, por lo que se pueden usar corchetes para acceder a elementos de la cadena. De igual forma, se puede iterar sobre los elementos de una cadena con el ciclo _For_"
      ],
      "metadata": {
        "id": "ydY_k6wkJIK0"
      }
    },
    {
      "cell_type": "code",
      "source": [
        "text1[0]"
      ],
      "metadata": {
        "colab": {
          "base_uri": "https://localhost:8080/",
          "height": 37
        },
        "id": "pjR2X2BxJGhz",
        "outputId": "669ab4d2-0d59-466a-b44e-c41e7d825efc"
      },
      "execution_count": null,
      "outputs": [
        {
          "output_type": "execute_result",
          "data": {
            "text/plain": [
              "'P'"
            ],
            "application/vnd.google.colaboratory.intrinsic+json": {
              "type": "string"
            }
          },
          "metadata": {},
          "execution_count": 5
        }
      ]
    },
    {
      "cell_type": "code",
      "source": [
        "for char in text1:\n",
        "  print(char)"
      ],
      "metadata": {
        "colab": {
          "base_uri": "https://localhost:8080/"
        },
        "id": "PtitGtPOKa9N",
        "outputId": "fe7d0b66-40c4-4e2d-b1e4-0a67c3388b29"
      },
      "execution_count": null,
      "outputs": [
        {
          "output_type": "stream",
          "name": "stdout",
          "text": [
            "P\n",
            "o\n",
            "r\n",
            " \n",
            "m\n",
            "i\n",
            " \n",
            "r\n",
            "a\n",
            "z\n",
            "a\n",
            " \n",
            "h\n",
            "a\n",
            "b\n",
            "l\n",
            "a\n",
            "r\n",
            "á\n",
            " \n",
            "e\n",
            "l\n",
            " \n",
            "e\n",
            "s\n",
            "p\n",
            "í\n",
            "r\n",
            "i\n",
            "t\n",
            "u\n"
          ]
        }
      ]
    },
    {
      "cell_type": "markdown",
      "source": [
        "Para conocer la longitud de una cadena, se utilza el método _len( )_ "
      ],
      "metadata": {
        "id": "JGv9mxeuK7pF"
      }
    },
    {
      "cell_type": "code",
      "source": [
        "len(text1)"
      ],
      "metadata": {
        "colab": {
          "base_uri": "https://localhost:8080/"
        },
        "id": "A6KqMttEKbb7",
        "outputId": "5f560567-d55f-4bfb-8267-6746970b064d"
      },
      "execution_count": null,
      "outputs": [
        {
          "output_type": "execute_result",
          "data": {
            "text/plain": [
              "31"
            ]
          },
          "metadata": {},
          "execution_count": 7
        }
      ]
    },
    {
      "cell_type": "markdown",
      "source": [
        "Para determinar si un caracter o una sub-cadena está presente en una cadena se utiliza la palabra reservada _in_"
      ],
      "metadata": {
        "id": "WAYS_NZ4LWZ5"
      }
    },
    {
      "cell_type": "code",
      "source": [
        "print('raza' in text1)"
      ],
      "metadata": {
        "colab": {
          "base_uri": "https://localhost:8080/"
        },
        "id": "GCW_p7lSKbtO",
        "outputId": "fd4d39f4-aaad-48f1-86b1-6f93dedd0c7c"
      },
      "execution_count": null,
      "outputs": [
        {
          "output_type": "stream",
          "name": "stdout",
          "text": [
            "True\n"
          ]
        }
      ]
    },
    {
      "cell_type": "code",
      "source": [
        "if 'raza' in text1:\n",
        "  print('\"raza\" si está presente en el texto')"
      ],
      "metadata": {
        "colab": {
          "base_uri": "https://localhost:8080/"
        },
        "id": "LErnJ2LhKcEs",
        "outputId": "6046f28a-fd60-452d-9335-449863378dd7"
      },
      "execution_count": null,
      "outputs": [
        {
          "output_type": "stream",
          "name": "stdout",
          "text": [
            "\"raza\" si está presente en el texto\n"
          ]
        }
      ]
    },
    {
      "cell_type": "markdown",
      "source": [
        "## 2.2) División cadenas \n",
        "Es posible devolver un rango de caracteres utilizando la sintaxis de división. Para esto, es necesario especificar el índice inicial y el índice final, separados por dos puntos, para devolver una parte de la cadena. "
      ],
      "metadata": {
        "id": "4lsGpXRWMUjJ"
      }
    },
    {
      "cell_type": "code",
      "source": [
        "print(text1[6:20])"
      ],
      "metadata": {
        "colab": {
          "base_uri": "https://localhost:8080/"
        },
        "id": "7oRmdqHhKcVQ",
        "outputId": "a792e134-79f2-416f-d4fa-b7401592cd63"
      },
      "execution_count": null,
      "outputs": [
        {
          "output_type": "stream",
          "name": "stdout",
          "text": [
            " raza hablará \n"
          ]
        }
      ]
    },
    {
      "cell_type": "markdown",
      "source": [
        "Si se omite el índice de inicio, el rango comenzará en el primer carácter. De forma análoga, si se omite el índice de fin, el rango terminará en el final de la cadena."
      ],
      "metadata": {
        "id": "KnVgZl43NLes"
      }
    },
    {
      "cell_type": "code",
      "source": [
        "print(text1[:20])"
      ],
      "metadata": {
        "colab": {
          "base_uri": "https://localhost:8080/"
        },
        "id": "uTLlHapBNol4",
        "outputId": "262f1184-3d26-4ea6-bb5d-cb4038616876"
      },
      "execution_count": null,
      "outputs": [
        {
          "output_type": "stream",
          "name": "stdout",
          "text": [
            "Por mi raza hablará \n"
          ]
        }
      ]
    },
    {
      "cell_type": "code",
      "source": [
        "print(text1[6:])"
      ],
      "metadata": {
        "colab": {
          "base_uri": "https://localhost:8080/"
        },
        "id": "QLSqqdLnNs0E",
        "outputId": "8de4ab5e-f686-4d2d-9792-84df1985b770"
      },
      "execution_count": null,
      "outputs": [
        {
          "output_type": "stream",
          "name": "stdout",
          "text": [
            " raza hablará el espíritu\n"
          ]
        }
      ]
    },
    {
      "cell_type": "markdown",
      "source": [
        "## 2.3) Modificación de cadenas\n",
        "Existen métodos pre-definidos para realizar cambios en las cadenas de texto. "
      ],
      "metadata": {
        "id": "H2nHKimaNL7d"
      }
    },
    {
      "cell_type": "markdown",
      "source": [
        "Convertir texto a mayúsculas"
      ],
      "metadata": {
        "id": "4boVsief5pOU"
      }
    },
    {
      "cell_type": "code",
      "source": [
        "text1.upper()"
      ],
      "metadata": {
        "id": "70E9sBnTKcsc"
      },
      "execution_count": null,
      "outputs": []
    },
    {
      "cell_type": "markdown",
      "source": [
        "Convertir texto a minúsculas"
      ],
      "metadata": {
        "id": "wx7gzUL25vxX"
      }
    },
    {
      "cell_type": "code",
      "source": [
        "text1.lower()"
      ],
      "metadata": {
        "id": "QsVC_KI35v7i"
      },
      "execution_count": null,
      "outputs": []
    },
    {
      "cell_type": "markdown",
      "source": [
        "Remoción de espacios en blanco"
      ],
      "metadata": {
        "id": "1VDOaktS5wVS"
      }
    },
    {
      "cell_type": "code",
      "source": [
        "text = '               Hola, mundo!                   '\n",
        "print(text)"
      ],
      "metadata": {
        "colab": {
          "base_uri": "https://localhost:8080/"
        },
        "id": "ItAfBySV5wiL",
        "outputId": "d023d1a4-18b3-4417-c856-a6f0c7b6a78e"
      },
      "execution_count": 2,
      "outputs": [
        {
          "output_type": "stream",
          "name": "stdout",
          "text": [
            "               Hola, mundo!                   \n"
          ]
        }
      ]
    },
    {
      "cell_type": "code",
      "source": [
        "text = text.strip()\n",
        "print(text)"
      ],
      "metadata": {
        "colab": {
          "base_uri": "https://localhost:8080/"
        },
        "id": "_yzWVXgg6SUt",
        "outputId": "56267585-9671-454a-dfae-9623a97d76b5"
      },
      "execution_count": 6,
      "outputs": [
        {
          "output_type": "stream",
          "name": "stdout",
          "text": [
            "Hola, mundo!\n"
          ]
        }
      ]
    },
    {
      "cell_type": "markdown",
      "source": [
        "Remplazar caracteres"
      ],
      "metadata": {
        "id": "PfdVYZkU5wt4"
      }
    },
    {
      "cell_type": "code",
      "source": [
        "text.replace('Hola', 'Hello')"
      ],
      "metadata": {
        "colab": {
          "base_uri": "https://localhost:8080/",
          "height": 37
        },
        "id": "uV3mcjtS5w8r",
        "outputId": "e6fb780c-f6a5-415c-b519-11d0e8b10d40"
      },
      "execution_count": 7,
      "outputs": [
        {
          "output_type": "execute_result",
          "data": {
            "text/plain": [
              "'Hello, mundo!'"
            ],
            "application/vnd.google.colaboratory.intrinsic+json": {
              "type": "string"
            }
          },
          "metadata": {},
          "execution_count": 7
        }
      ]
    },
    {
      "cell_type": "markdown",
      "source": [
        "División de cadenas"
      ],
      "metadata": {
        "id": "clBYLgaS7BKv"
      }
    },
    {
      "cell_type": "code",
      "source": [
        "words = text.split()"
      ],
      "metadata": {
        "id": "NWN0nP_F7hcx"
      },
      "execution_count": 8,
      "outputs": []
    },
    {
      "cell_type": "code",
      "source": [
        "words"
      ],
      "metadata": {
        "colab": {
          "base_uri": "https://localhost:8080/"
        },
        "id": "KK8kJHmV70jK",
        "outputId": "3f1918ce-0d3c-40fb-aca3-3918efc736a2"
      },
      "execution_count": 10,
      "outputs": [
        {
          "output_type": "execute_result",
          "data": {
            "text/plain": [
              "['Hola,', 'mundo!']"
            ]
          },
          "metadata": {},
          "execution_count": 10
        }
      ]
    },
    {
      "cell_type": "markdown",
      "source": [
        "## 2.4) Caracteres especiales\n",
        "Es posible insertar caracteres que no son válidos en una cadena, utilizando un carácter de escape; este es una barra inverida \"\\\" seguida del carácter que se desea insertar. Algunos de los caracteres de escape mas comunes son:\n",
        "\n",
        "| Código | Resultado |\n",
        "| -------- | ------- |\n",
        "|\\\\'| Comillas simple |\n",
        "|\\\\\\\\| Barra invertida |\n",
        "|\\\\n| Salto de línea |\n",
        "|\\\\r| Retorno de carro |\n",
        "|\\\\t| Tabulador |\n",
        "|\\\\b| Retroceso |\n"
      ],
      "metadata": {
        "id": "fUB0_qRs89fM"
      }
    },
    {
      "cell_type": "code",
      "source": [
        "text = \"Somos los llamados \"Pumas\" de Universidad\"\n",
        "print(text)"
      ],
      "metadata": {
        "id": "7nrXDLJw9cVg"
      },
      "execution_count": null,
      "outputs": []
    },
    {
      "cell_type": "code",
      "source": [
        "text = \"Somos los llamados \\\"Pumas\\\" de Universidad\""
      ],
      "metadata": {
        "id": "qqkDSljf9qtj"
      },
      "execution_count": null,
      "outputs": []
    },
    {
      "cell_type": "markdown",
      "source": [
        "## 2.5) Ejercicios"
      ],
      "metadata": {
        "id": "2yg1AHNSBQ58"
      }
    },
    {
      "cell_type": "markdown",
      "source": [
        "- Define una función que devuelva una cadena en orden inverso sin utilizar el método reversed(). Por ejemplo, si recibe la cadena \"Hola\", devolver la cadena \"aloH\""
      ],
      "metadata": {
        "id": "TgoMureQCkr8"
      }
    },
    {
      "cell_type": "code",
      "source": [],
      "metadata": {
        "id": "ogJidOXZB5wx"
      },
      "execution_count": 16,
      "outputs": []
    },
    {
      "cell_type": "markdown",
      "source": [
        "- Define una función que determine si una cadena es una palíndromo"
      ],
      "metadata": {
        "id": "_-Nfnlu4DRi6"
      }
    },
    {
      "cell_type": "code",
      "source": [],
      "metadata": {
        "id": "iaJIKP7-DSYo"
      },
      "execution_count": null,
      "outputs": []
    },
    {
      "cell_type": "markdown",
      "source": [
        "- Define una función que convierta a mayúsculas la mitad de una cadena"
      ],
      "metadata": {
        "id": "e-UC9fQtDTkb"
      }
    },
    {
      "cell_type": "code",
      "source": [],
      "metadata": {
        "id": "xwLv1HEpDUQf"
      },
      "execution_count": null,
      "outputs": []
    }
  ]
}