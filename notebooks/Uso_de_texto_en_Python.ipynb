{
  "nbformat": 4,
  "nbformat_minor": 0,
  "metadata": {
    "colab": {
      "provenance": [],
      "authorship_tag": "ABX9TyNxd+LkesRozf2hckV8ztKC",
      "include_colab_link": true
    },
    "kernelspec": {
      "name": "python3",
      "display_name": "Python 3"
    },
    "language_info": {
      "name": "python"
    }
  },
  "cells": [
    {
      "cell_type": "markdown",
      "metadata": {
        "id": "view-in-github",
        "colab_type": "text"
      },
      "source": [
        "<a href=\"https://colab.research.google.com/github/jgermanob/COCID-PLN/blob/master/notebooks/Uso_de_texto_en_Python.ipynb\" target=\"_parent\"><img src=\"https://colab.research.google.com/assets/colab-badge.svg\" alt=\"Open In Colab\"/></a>"
      ]
    },
    {
      "cell_type": "markdown",
      "source": [
        "# 2) Uso de texto en Python\n",
        "\n",
        "Python es un lenguaje de programación simple pero poderoso con una excelente funcionalidad para procesar datos lingüísticos. Además, utiliza el paradigma orientado a objetos, por lo que cada variable es una entidad que tiene ciertos atributos y métodos definidos.\n"
      ],
      "metadata": {
        "id": "SZGjz9ja9IA4"
      }
    },
    {
      "cell_type": "markdown",
      "source": [
        "## 2.1) Cadenas en Python\n",
        "Las cadenas en python están entre comillas simples o comillas dobles. Estas se pueden mostrar en pantalla con el método _print( )_"
      ],
      "metadata": {
        "id": "exAwFR-GBFBP"
      }
    },
    {
      "cell_type": "code",
      "execution_count": null,
      "metadata": {
        "id": "bOkBuorh8rmM"
      },
      "outputs": [],
      "source": [
        "text1 = \"Por mi raza hablará el espíritu\""
      ]
    },
    {
      "cell_type": "code",
      "source": [
        "print(text1)"
      ],
      "metadata": {
        "id": "J5zAXI-7B08I"
      },
      "execution_count": null,
      "outputs": []
    },
    {
      "cell_type": "markdown",
      "source": [
        "Se pueden asignar multiples cadenas a una variable utlizando tres comillas simples o tres comillas dobles."
      ],
      "metadata": {
        "id": "XcfLMpNCCdyt"
      }
    },
    {
      "cell_type": "code",
      "source": [
        "text2 = \"\"\"Oh Universidad,\n",
        "Escucha con qué ardor,\n",
        "Entonan hoy tus hijos,\n",
        "Este himno en tu honor\n",
        "\"\"\""
      ],
      "metadata": {
        "id": "0tsj7tQhB1Sq"
      },
      "execution_count": null,
      "outputs": []
    },
    {
      "cell_type": "code",
      "source": [
        "text3 = '''Al darte la victoria,\n",
        "Honramos tus laureles,\n",
        "Conservando tu historia,\n",
        "Que es toda tradición\n",
        "'''"
      ],
      "metadata": {
        "id": "yR4UD0NwItGl"
      },
      "execution_count": null,
      "outputs": []
    },
    {
      "cell_type": "markdown",
      "source": [
        "Las cadenas en Python son arreglos de bytes que representan caracteres _unicode_, por lo que se pueden usar corchetes para acceder a elementos de la cadena. De igual forma, se puede iterar sobre los elementos de una cadena con el ciclo _For_"
      ],
      "metadata": {
        "id": "ydY_k6wkJIK0"
      }
    },
    {
      "cell_type": "code",
      "source": [
        "text1[0]"
      ],
      "metadata": {
        "id": "pjR2X2BxJGhz"
      },
      "execution_count": null,
      "outputs": []
    },
    {
      "cell_type": "code",
      "source": [
        "for char in text1:\n",
        "  print(char)"
      ],
      "metadata": {
        "id": "PtitGtPOKa9N"
      },
      "execution_count": null,
      "outputs": []
    },
    {
      "cell_type": "markdown",
      "source": [
        "Para conocer la longitud de una cadena, se utilza el método _len( )_ "
      ],
      "metadata": {
        "id": "JGv9mxeuK7pF"
      }
    },
    {
      "cell_type": "code",
      "source": [
        "len(text1)"
      ],
      "metadata": {
        "id": "A6KqMttEKbb7"
      },
      "execution_count": null,
      "outputs": []
    },
    {
      "cell_type": "markdown",
      "source": [
        "Para determinar si un caracter o una sub-cadena está presente en una cadena se utiliza la palabra reservada _in_"
      ],
      "metadata": {
        "id": "WAYS_NZ4LWZ5"
      }
    },
    {
      "cell_type": "code",
      "source": [
        "print('raza' in text1)"
      ],
      "metadata": {
        "id": "GCW_p7lSKbtO"
      },
      "execution_count": null,
      "outputs": []
    },
    {
      "cell_type": "code",
      "source": [
        "if 'raza' in text1:\n",
        "  print('\"raza\" si está presente en el texto')"
      ],
      "metadata": {
        "id": "LErnJ2LhKcEs"
      },
      "execution_count": null,
      "outputs": []
    },
    {
      "cell_type": "markdown",
      "source": [
        "## 2.2) División cadenas \n",
        "Es posible devolver un rango de caracteres utilizando la sintaxis de división. Para esto, es necesario especificar el índice inicial y el índice final, separados por dos puntos, para devolver una parte de la cadena. "
      ],
      "metadata": {
        "id": "4lsGpXRWMUjJ"
      }
    },
    {
      "cell_type": "code",
      "source": [
        "print(text1[6:20])"
      ],
      "metadata": {
        "id": "7oRmdqHhKcVQ"
      },
      "execution_count": null,
      "outputs": []
    },
    {
      "cell_type": "markdown",
      "source": [
        "Si se omite el índice de inicio, el rango comenzará en el primer carácter. De forma análoga, si se omite el índice de fin, el rango terminará en el final de la cadena."
      ],
      "metadata": {
        "id": "KnVgZl43NLes"
      }
    },
    {
      "cell_type": "code",
      "source": [
        "print(text1[:20])"
      ],
      "metadata": {
        "id": "uTLlHapBNol4"
      },
      "execution_count": null,
      "outputs": []
    },
    {
      "cell_type": "code",
      "source": [
        "print(text1[6:])"
      ],
      "metadata": {
        "id": "QLSqqdLnNs0E"
      },
      "execution_count": null,
      "outputs": []
    },
    {
      "cell_type": "markdown",
      "source": [
        "## 2.3) Modificación de cadenas\n",
        "Existen métodos pre-definidos para realizar cambios en las cadenas de texto. "
      ],
      "metadata": {
        "id": "H2nHKimaNL7d"
      }
    },
    {
      "cell_type": "markdown",
      "source": [
        "Convertir texto a mayúsculas"
      ],
      "metadata": {
        "id": "4boVsief5pOU"
      }
    },
    {
      "cell_type": "code",
      "source": [
        "text1.upper()"
      ],
      "metadata": {
        "id": "70E9sBnTKcsc"
      },
      "execution_count": null,
      "outputs": []
    },
    {
      "cell_type": "markdown",
      "source": [
        "Convertir texto a minúsculas"
      ],
      "metadata": {
        "id": "wx7gzUL25vxX"
      }
    },
    {
      "cell_type": "code",
      "source": [
        "text1.lower()"
      ],
      "metadata": {
        "id": "QsVC_KI35v7i"
      },
      "execution_count": null,
      "outputs": []
    },
    {
      "cell_type": "markdown",
      "source": [
        "Remoción de espacios en blanco"
      ],
      "metadata": {
        "id": "1VDOaktS5wVS"
      }
    },
    {
      "cell_type": "code",
      "source": [
        "text = '               Hola, mundo!                   '\n",
        "print(text)"
      ],
      "metadata": {
        "id": "ItAfBySV5wiL"
      },
      "execution_count": null,
      "outputs": []
    },
    {
      "cell_type": "code",
      "source": [
        "text = text.strip()\n",
        "print(text)"
      ],
      "metadata": {
        "id": "_yzWVXgg6SUt"
      },
      "execution_count": null,
      "outputs": []
    },
    {
      "cell_type": "markdown",
      "source": [
        "Remplazar caracteres"
      ],
      "metadata": {
        "id": "PfdVYZkU5wt4"
      }
    },
    {
      "cell_type": "code",
      "source": [
        "text.replace('Hola', 'Hello')"
      ],
      "metadata": {
        "id": "uV3mcjtS5w8r"
      },
      "execution_count": null,
      "outputs": []
    },
    {
      "cell_type": "markdown",
      "source": [
        "División de cadenas"
      ],
      "metadata": {
        "id": "clBYLgaS7BKv"
      }
    },
    {
      "cell_type": "code",
      "source": [
        "words = text.split()"
      ],
      "metadata": {
        "id": "NWN0nP_F7hcx"
      },
      "execution_count": 8,
      "outputs": []
    },
    {
      "cell_type": "code",
      "source": [
        "words"
      ],
      "metadata": {
        "id": "KK8kJHmV70jK"
      },
      "execution_count": null,
      "outputs": []
    },
    {
      "cell_type": "markdown",
      "source": [
        "## 2.4) Caracteres especiales\n",
        "Es posible insertar caracteres que no son válidos en una cadena, utilizando un carácter de escape; este es una barra inverida \"\\\" seguida del carácter que se desea insertar. Algunos de los caracteres de escape mas comunes son:\n",
        "\n",
        "| Código | Resultado |\n",
        "| -------- | ------- |\n",
        "|\\\\'| Comillas simple |\n",
        "|\\\\\\\\| Barra invertida |\n",
        "|\\\\n| Salto de línea |\n",
        "|\\\\r| Retorno de carro |\n",
        "|\\\\t| Tabulador |\n",
        "|\\\\b| Retroceso |\n"
      ],
      "metadata": {
        "id": "fUB0_qRs89fM"
      }
    },
    {
      "cell_type": "code",
      "source": [
        "text = \"Somos los llamados \"Pumas\" de Universidad\"\n",
        "print(text)"
      ],
      "metadata": {
        "id": "7nrXDLJw9cVg"
      },
      "execution_count": null,
      "outputs": []
    },
    {
      "cell_type": "code",
      "source": [
        "text = \"Somos los llamados \\\"Pumas\\\" de Universidad\""
      ],
      "metadata": {
        "id": "qqkDSljf9qtj"
      },
      "execution_count": null,
      "outputs": []
    },
    {
      "cell_type": "markdown",
      "source": [
        "## 2.5) Ejercicios"
      ],
      "metadata": {
        "id": "2yg1AHNSBQ58"
      }
    },
    {
      "cell_type": "markdown",
      "source": [
        "- Define una función que devuelva una cadena en orden inverso sin utilizar el método reversed(). Por ejemplo, si recibe la cadena \"Hola\", devolver la cadena \"aloH\""
      ],
      "metadata": {
        "id": "TgoMureQCkr8"
      }
    },
    {
      "cell_type": "code",
      "source": [],
      "metadata": {
        "id": "ogJidOXZB5wx"
      },
      "execution_count": 16,
      "outputs": []
    },
    {
      "cell_type": "markdown",
      "source": [
        "- Define una función que determine si una cadena es una palíndromo"
      ],
      "metadata": {
        "id": "_-Nfnlu4DRi6"
      }
    },
    {
      "cell_type": "code",
      "source": [],
      "metadata": {
        "id": "iaJIKP7-DSYo"
      },
      "execution_count": null,
      "outputs": []
    },
    {
      "cell_type": "markdown",
      "source": [
        "- Define una función que convierta a mayúsculas la mitad de una cadena"
      ],
      "metadata": {
        "id": "e-UC9fQtDTkb"
      }
    },
    {
      "cell_type": "code",
      "source": [],
      "metadata": {
        "id": "xwLv1HEpDUQf"
      },
      "execution_count": null,
      "outputs": []
    }
  ]
}