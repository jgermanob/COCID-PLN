{
  "nbformat": 4,
  "nbformat_minor": 0,
  "metadata": {
    "colab": {
      "provenance": [],
      "authorship_tag": "ABX9TyO44y9V8pzs2atqufgz2YwY",
      "include_colab_link": true
    },
    "kernelspec": {
      "name": "python3",
      "display_name": "Python 3"
    },
    "language_info": {
      "name": "python"
    }
  },
  "cells": [
    {
      "cell_type": "markdown",
      "metadata": {
        "id": "view-in-github",
        "colab_type": "text"
      },
      "source": [
        "<a href=\"https://colab.research.google.com/github/jgermanob/COCID-PLN/blob/master/notebooks/Vectores_de_palabras.ipynb\" target=\"_parent\"><img src=\"https://colab.research.google.com/assets/colab-badge.svg\" alt=\"Open In Colab\"/></a>"
      ]
    },
    {
      "cell_type": "markdown",
      "source": [
        "# 5) Vectores de palabras"
      ],
      "metadata": {
        "id": "qNmEqqGZt1Ou"
      }
    },
    {
      "cell_type": "code",
      "execution_count": null,
      "metadata": {
        "id": "yXwm8v1KtxK6"
      },
      "outputs": [],
      "source": [
        "from gensim.models import KeyedVectors\n",
        "import gensim.downloader as api\n",
        "import numpy as np\n",
        "from sklearn.decomposition import PCA\n",
        "import matplotlib.pyplot as plt"
      ]
    },
    {
      "cell_type": "code",
      "source": [
        "model = api.load('glove-wiki-gigaword-300')"
      ],
      "metadata": {
        "id": "PMVI98oL0Yf5"
      },
      "execution_count": null,
      "outputs": []
    },
    {
      "cell_type": "markdown",
      "source": [
        "#### 5.1) Exploración del vocabulario"
      ],
      "metadata": {
        "id": "rTAvk3lOmQBE"
      }
    },
    {
      "cell_type": "markdown",
      "source": [
        "Se puede acceder al vocabulario del modelo pre-entrenado con el atributo `index_to_key` que devuelve una lista con todas las palabras contenidas en el modelo."
      ],
      "metadata": {
        "id": "PyGv5LXuoo8G"
      }
    },
    {
      "cell_type": "code",
      "source": [
        "vocab = model.index_to_key\n",
        "vocab[50:60]"
      ],
      "metadata": {
        "id": "8o8Bz6jkmZsT"
      },
      "execution_count": null,
      "outputs": []
    },
    {
      "cell_type": "code",
      "source": [
        "len(vocab)"
      ],
      "metadata": {
        "id": "sYjPcrV9nJdC"
      },
      "execution_count": null,
      "outputs": []
    },
    {
      "cell_type": "markdown",
      "source": [
        "Es posible verificar si una palabra está contenida en el modelo pre-entrenado"
      ],
      "metadata": {
        "id": "wfmulyGvqFFZ"
      }
    },
    {
      "cell_type": "code",
      "source": [
        "word = 'king'\n",
        "word in model"
      ],
      "metadata": {
        "id": "Cb7ej35QnJxb"
      },
      "execution_count": null,
      "outputs": []
    },
    {
      "cell_type": "code",
      "source": [
        "vector = model[word]\n",
        "vector"
      ],
      "metadata": {
        "id": "scfrjjzqnJ-6"
      },
      "execution_count": null,
      "outputs": []
    },
    {
      "cell_type": "code",
      "source": [
        "vector.shape"
      ],
      "metadata": {
        "id": "Drq03HjMqbfu"
      },
      "execution_count": null,
      "outputs": []
    },
    {
      "cell_type": "markdown",
      "source": [
        "#### 5.2) Aritmética de vectores "
      ],
      "metadata": {
        "id": "iXG1ZVPVqzZx"
      }
    },
    {
      "cell_type": "markdown",
      "source": [
        "Se puede calcular la similitud entre vectores de palabras empleando la similtiud coseno, la cual se define como:\n",
        "\n",
        "$$\n",
        "similitud\\ coseno(A,B) = \\frac{A \\cdot B}{||A||\\ ||B||} =\\frac{\\sum_{i=1}^{n}{A_iB_i}}{\\sqrt{\\sum_{i=1}^{n}{A_i^2}}\\sqrt{\\sum_{i=1}^{n}{B_i^2}}} \n",
        "$$\n",
        "\n",
        "Donde:\n",
        "\n",
        "* $A_i$, $B_i$ son los $i$-ésimos elementos de los vectores $A$ y $B$, respectivamente.\n",
        "\n",
        "La similitud resultante varía desde -1, que significa exactamente lo contrario, hasta 1, que significa exactamente lo mismo.\n",
        "\n",
        "Para calcular la similitud coseno de dos palabras se utiliza el método `similarity()`."
      ],
      "metadata": {
        "id": "yx3tvefPtN-S"
      }
    },
    {
      "cell_type": "code",
      "source": [
        "model.similarity('car', 'vehicle')"
      ],
      "metadata": {
        "id": "z0XlWgloq8yc"
      },
      "execution_count": null,
      "outputs": []
    },
    {
      "cell_type": "code",
      "source": [
        "model.similarity('car', 'dog')"
      ],
      "metadata": {
        "id": "GOjbl25zz5pO"
      },
      "execution_count": null,
      "outputs": []
    },
    {
      "cell_type": "markdown",
      "source": [
        "Es posible obtener una lista con las $n$ palabras mas similares de otra palabra con el método `most_similar()`."
      ],
      "metadata": {
        "id": "ORYenQeRzj9b"
      }
    },
    {
      "cell_type": "code",
      "source": [
        "model.most_similar(positive=['football'], topn=5)"
      ],
      "metadata": {
        "id": "NPO179Me0D8D"
      },
      "execution_count": null,
      "outputs": []
    },
    {
      "cell_type": "markdown",
      "source": [
        "##### 5.2.1) Análogias\n",
        "Una propiedad sorprendente de los vectores de palabras es que las analogías de palabras a menudo se pueden resolver con la aritmética de vectores. El ejemplo mas famoso es el siguiente:\n",
        "\n",
        "$$\n",
        "\\vec{king} - \\vec{man} + \\vec{woman} \\approx \\vec{queen}\n",
        "$$"
      ],
      "metadata": {
        "id": "tfpO42TZ1yru"
      }
    },
    {
      "cell_type": "code",
      "source": [
        "def cosine_similarity(a,b):\n",
        "  return (np.dot(a,b)/(np.linalg.norm(a)*np.linalg.norm(b)))"
      ],
      "metadata": {
        "id": "GMEdDGuH37-U"
      },
      "execution_count": null,
      "outputs": []
    },
    {
      "cell_type": "code",
      "source": [
        "vector = model['king'] - model['man'] + model['woman']"
      ],
      "metadata": {
        "id": "9R2XS0pe1J45"
      },
      "execution_count": null,
      "outputs": []
    },
    {
      "cell_type": "code",
      "source": [
        "queen = model['queen']"
      ],
      "metadata": {
        "id": "vm0uS_Ds2-ke"
      },
      "execution_count": null,
      "outputs": []
    },
    {
      "cell_type": "code",
      "source": [
        "cosine_similarity(vector,queen)"
      ],
      "metadata": {
        "id": "tBygQreJ3Kt9"
      },
      "execution_count": null,
      "outputs": []
    },
    {
      "cell_type": "code",
      "source": [
        "model.most_similar(positive=['king', 'woman'], negative=['man'])"
      ],
      "metadata": {
        "id": "SHohPDDZ6dWE"
      },
      "execution_count": null,
      "outputs": []
    },
    {
      "cell_type": "markdown",
      "source": [
        "#### 5.3) Visualización"
      ],
      "metadata": {
        "id": "i1lDQ6qg_9Hk"
      }
    },
    {
      "cell_type": "code",
      "source": [
        "def display_words(model, words=None, sample=0):\n",
        "        \n",
        "    # first get the word vectors\n",
        "    word_vectors = np.array([model[w] for w in words])\n",
        "\n",
        "    # transform the data using PCA\n",
        "    wv_PCA = PCA().fit_transform(word_vectors)[:,:2]\n",
        "    \n",
        "    plt.figure(figsize=(10,10))\n",
        "\n",
        "    plt.scatter(wv_PCA[:,0], wv_PCA[:,1], \n",
        "                edgecolors='k', c='r')\n",
        "    \n",
        "    plt.grid()\n",
        "    \n",
        "    for word, (x,y) in zip(words, wv_PCA):\n",
        "        plt.text(x+0.05, y+0.05, word)"
      ],
      "metadata": {
        "id": "QHjKcKJoAeAx"
      },
      "execution_count": null,
      "outputs": []
    },
    {
      "cell_type": "code",
      "source": [
        "words = ['dog', 'cat', 'horse', 'shark', 'elephant',\n",
        "         'university', 'lesson', 'student', 'teacher', 'exam',\n",
        "         'netherlands', 'amsterdam', 'france', 'paris', 'spain', 'madrid',\n",
        "         'coffee', 'tea', 'pizza', 'sushi', 'sandwich',\n",
        "         'car', 'train', 'bike', 'airplane', 'helicopter']"
      ],
      "metadata": {
        "id": "hgzkRrGmBD06"
      },
      "execution_count": null,
      "outputs": []
    },
    {
      "cell_type": "code",
      "source": [
        "display_words(model, words)"
      ],
      "metadata": {
        "id": "tfTmXKH1AnoZ"
      },
      "execution_count": null,
      "outputs": []
    },
    {
      "cell_type": "markdown",
      "source": [
        "#### 5.4) Sesgos "
      ],
      "metadata": {
        "id": "j7b9btfqCu1d"
      }
    },
    {
      "cell_type": "code",
      "source": [
        "biased_words = ['he', 'she', 'sister', \n",
        "                'brother', 'man', 'woman',\n",
        "                'nurse', 'doctor', \n",
        "                'grandfather', 'grandmother',\n",
        "                'math', 'arts',\n",
        "                'daughter', 'son']"
      ],
      "metadata": {
        "id": "JqDvH21amdWZ"
      },
      "execution_count": null,
      "outputs": []
    },
    {
      "cell_type": "code",
      "source": [
        "display_words(model, biased_words)"
      ],
      "metadata": {
        "id": "_RPdKQenmdlv"
      },
      "execution_count": null,
      "outputs": []
    },
    {
      "cell_type": "markdown",
      "source": [
        "#### Ejercicio\n",
        "\n",
        "Define una función `compute_avg_similarity()` que reciba como parámetros una lista de atributos y una palabra objetivo para calcular la similitud promedio entre estos."
      ],
      "metadata": {
        "id": "cYp__LGXoJ6s"
      }
    },
    {
      "cell_type": "code",
      "source": [
        "male_attributes = ['male', 'man', 'boy', 'brother', 'he', 'him', 'his', 'son']\n",
        "female_attributes = ['female', 'woman', 'girl', 'sister', 'she', 'her', 'hers', 'daughter']"
      ],
      "metadata": {
        "id": "1WLIvsIZoJDR"
      },
      "execution_count": null,
      "outputs": []
    },
    {
      "cell_type": "code",
      "source": [
        "target_word_1 = 'math'\n",
        "target_word_2 = 'poetry'"
      ],
      "metadata": {
        "id": "d8Cmxgh1o4CU"
      },
      "execution_count": null,
      "outputs": []
    }
  ]
}