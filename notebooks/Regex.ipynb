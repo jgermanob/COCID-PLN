{
  "nbformat": 4,
  "nbformat_minor": 0,
  "metadata": {
    "colab": {
      "provenance": [],
      "authorship_tag": "ABX9TyPeqY6uC9oKN3kSyQl6upOI",
      "include_colab_link": true
    },
    "kernelspec": {
      "name": "python3",
      "display_name": "Python 3"
    },
    "language_info": {
      "name": "python"
    }
  },
  "cells": [
    {
      "cell_type": "markdown",
      "metadata": {
        "id": "view-in-github",
        "colab_type": "text"
      },
      "source": [
        "<a href=\"https://colab.research.google.com/github/jgermanob/COCID-PLN/blob/master/notebooks/Regex.ipynb\" target=\"_parent\"><img src=\"https://colab.research.google.com/assets/colab-badge.svg\" alt=\"Open In Colab\"/></a>"
      ]
    },
    {
      "cell_type": "markdown",
      "source": [
        "# 3) Expresiones regualres\n",
        "\n",
        "Una expresión regular es una fórmula en un lenguaje especial que se usa para especificar clases simples de cadenas. Una cadena es una secuencia de símbolos; a efectos de la mayoría de las técnicas de búsqueda basadas en texto, una cadena es cualquier secuencia de caracteres alfanuméricos (letras, números, espacios, tabulaciones y puntuación).\n",
        "\n",
        "Formalmente, una expresión regular es una notación algebraica para caracterizar un conjunto de cadenas. Por lo tanto, se pueden usar para especificar cadenas de búsqueda, así como para definir un lenguaje de manera formal.\n",
        "\n",
        "La búsqueda de expresiones regulares requiere un patrón que queremos buscar y un corpus de textos para buscar. Una función de búsqueda de expresiones regulares buscará en el corpus y devolverá todos los textos que contengan el patrón.\n",
        "\n",
        "Python tiene un paquete integrado llamado re, que se puede usar para trabajar con expresiones regulares."
      ],
      "metadata": {
        "id": "OlagVb0nXz9Y"
      }
    },
    {
      "cell_type": "code",
      "execution_count": 1,
      "metadata": {
        "id": "W_nysgu6Xuv4"
      },
      "outputs": [],
      "source": [
        "import re"
      ]
    },
    {
      "cell_type": "code",
      "source": [
        "text = \"\"\"El zorro salta sobre el perro perezoso\n",
        "La leyenda del Zorro es una gran película\n",
        "Una manada de zorros anda por el bosque\n",
        "Aquel hombre gritó: Cuidado con el zorrooooooo !\"\"\""
      ],
      "metadata": {
        "id": "VAjzSPHVbwvj"
      },
      "execution_count": 29,
      "outputs": []
    },
    {
      "cell_type": "markdown",
      "source": [
        "El tipo más simple de expresión regular es una secuencia de caracteres simples. Por ejemplo, para buscar zorro, escribimos /zorro/."
      ],
      "metadata": {
        "id": "cC4X5i0ReTje"
      }
    },
    {
      "cell_type": "code",
      "source": [
        "patterns = re.findall(r'\\bzorro\\b', text)"
      ],
      "metadata": {
        "id": "ClGi0NHreSwe"
      },
      "execution_count": 3,
      "outputs": []
    },
    {
      "cell_type": "code",
      "source": [
        "patterns"
      ],
      "metadata": {
        "id": "LMXylyO4fp_M"
      },
      "execution_count": null,
      "outputs": []
    },
    {
      "cell_type": "markdown",
      "source": [
        "## 3.1) Conjuntos de caracteres \n",
        "\n",
        "Las expresiones regulares distinguen entre mayúsculas y minúsculas; La /z/ minúscula es distinta de la /Z/ mayúscula (/z/ coincide con una s minúscula pero no con una Z mayúscula).\n",
        "\n",
        "Esto significa que el patrón /zorro/ no coincidirá con la cadena Zorro. Podemos resolver este problema con el uso de los corchetes \\[ y \\]. La cadena de caracteres dentro de los corchetes especifica una disyunción de caracteres que se pueden presentar en el patrón definido.\n",
        "\n",
        "Algunos de los patrones mas utilizados disyunciones son:\n",
        "\n",
        "| Expresión regular | Descripción |\n",
        "| :---: | --- |\n",
        "| \\[a-z\\] | una letra minúscula |\n",
        "| \\[A-Z\\] | una letra mayúscula |\n",
        "| \\[0-9\\] | un dígito |\n",
        "| \\[ , ' ¿ ! ¡ ; : \\\\. \\\\? \\] | signos de puntuación |\n",
        "| \\[^a-z\\] | Todo menos letras minúsculas |\n",
        "| \\[^0-9\\] | Todo menos digitos |\n",
        "\n",
        "\n",
        "Además, en python existen clases de caracteres predefinidas, estas son:\n",
        "\n",
        "| Elemento | Descripción |\n",
        "| :---: | --- |\n",
        "| . | Cualquier caracter excepto salto de línea|\n",
        "| \\d | Cualquier dígito decimal|\n",
        "| \\D | Cualquier caracter excepto digitos |\n",
        "| \\s | Cualquier caracter de espacio en blanco |\n",
        "| \\S | Cualquier caracter que no sea espacio en blanco |\n",
        "| \\w | Cualquier caracter alfanumérico|\n",
        "| \\W | Cualquier caracter no alfanumérico|"
      ],
      "metadata": {
        "id": "jMQbLYhxicpA"
      }
    },
    {
      "cell_type": "code",
      "source": [
        "patterns = re.findall(r'\\b[zZ]orro\\b', text)"
      ],
      "metadata": {
        "id": "Cz7RRCzDjEq7"
      },
      "execution_count": 5,
      "outputs": []
    },
    {
      "cell_type": "code",
      "source": [
        "patterns"
      ],
      "metadata": {
        "id": "efAjxoTwjQC7"
      },
      "execution_count": null,
      "outputs": []
    },
    {
      "cell_type": "markdown",
      "source": [
        "## 3.2) Cuantificadores\n",
        "\n",
        "Estos permiten definir cómo se puede repetir un caracter, metacaracter o un conjunto de caracteres. Estos son:\n",
        "\n",
        "| Símbolo | Cuantificación de caracter previo |\n",
        "| :---: | --- |\n",
        "| ? | Opcional (cero o 1 repetición) |\n",
        "| * | cero o más repeticiones |\n",
        "| + | Una o mas repeticiones |\n",
        "| \\{n,m\\} | Entre _n_ y _m_ repeticiones |\n",
        "\n"
      ],
      "metadata": {
        "id": "8xnzf7Xhx5yc"
      }
    },
    {
      "cell_type": "code",
      "source": [
        "patterns = re.findall(r'\\b[zZ]orros?\\b', text)"
      ],
      "metadata": {
        "id": "PbZ0FuEVw2pr"
      },
      "execution_count": 7,
      "outputs": []
    },
    {
      "cell_type": "code",
      "source": [
        "patterns"
      ],
      "metadata": {
        "id": "fg1Iteb6w6LA"
      },
      "execution_count": null,
      "outputs": []
    },
    {
      "cell_type": "code",
      "source": [
        "patterns = re.findall(r'\\b[zZ]orro+s?\\b', text)"
      ],
      "metadata": {
        "id": "OOelZSBWzRXb"
      },
      "execution_count": 23,
      "outputs": []
    },
    {
      "cell_type": "code",
      "source": [
        "patterns"
      ],
      "metadata": {
        "id": "COtxmGH5zRmE"
      },
      "execution_count": null,
      "outputs": []
    },
    {
      "cell_type": "markdown",
      "source": [
        "## 3.3) Operaciones con expresiones regulares\n",
        "\n",
        "El método `findall()` devuelve una lista de todas las ocurrencias del patrón que no se superponen. Incluye la cadena vacia."
      ],
      "metadata": {
        "id": "OW4kXrUv2MYx"
      }
    },
    {
      "cell_type": "code",
      "source": [
        "regex = re.compile(\"\\w+\")\n",
        "patterns = regex.findall(text)\n",
        "patterns"
      ],
      "metadata": {
        "id": "86GKCsvtbrY3"
      },
      "execution_count": null,
      "outputs": []
    },
    {
      "cell_type": "markdown",
      "source": [
        "El método `split()` permite dividir una cadena usando expresiones regulares."
      ],
      "metadata": {
        "id": "kHfYM1Zq66SB"
      }
    },
    {
      "cell_type": "code",
      "source": [
        "regex = re.compile(\"\\n\")\n",
        "patterns = regex.split(text)\n",
        "patterns"
      ],
      "metadata": {
        "id": "TGGQXtztbr4S"
      },
      "execution_count": null,
      "outputs": []
    },
    {
      "cell_type": "markdown",
      "source": [
        "El método `sub()` devuelve la cadena resultante después de remplazar el patrón coincidente en la cadena original con otra."
      ],
      "metadata": {
        "id": "L_G_kGOg8DU-"
      }
    },
    {
      "cell_type": "code",
      "source": [
        "regex = re.compile(r'\\b[zZ]orro+s?\\b')\n",
        "regex.sub('ZORRO',text)"
      ],
      "metadata": {
        "id": "QCYK158o8EHB"
      },
      "execution_count": null,
      "outputs": []
    },
    {
      "cell_type": "markdown",
      "source": [
        "## Ejercicio\n",
        "\n",
        "Define una función que mediante expresiones regulares identifique las diferentes variaciones de fechas para el día 23 de Octubre de 2002 que se muestran en la variable `dates` y las devuelva en una lista. \n",
        "\n"
      ],
      "metadata": {
        "id": "D_dlBAdu8_X4"
      }
    },
    {
      "cell_type": "code",
      "source": [
        "dates = \"\"\"23-10-2002\n",
        "23/10/2002\n",
        "23/10/02\n",
        "10/23/2002\n",
        "23 Oct 2002\n",
        "23 de Octubre de 2002\n",
        "Oct 23, 2002\n",
        "Octubre 23, 2002\n",
        "\"\"\""
      ],
      "metadata": {
        "id": "lbMYQqME88MQ"
      },
      "execution_count": null,
      "outputs": []
    },
    {
      "cell_type": "code",
      "source": [],
      "metadata": {
        "id": "CX1ZonxO-PBm"
      },
      "execution_count": null,
      "outputs": []
    }
  ]
}